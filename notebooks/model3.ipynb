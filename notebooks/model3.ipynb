{
 "cells": [
  {
   "cell_type": "code",
   "execution_count": 28,
   "metadata": {},
   "outputs": [],
   "source": [
    "import pandas as pd\n",
    "import numpy as np\n",
    "from sklearn import linear_model"
   ]
  },
  {
   "cell_type": "code",
   "execution_count": 29,
   "metadata": {},
   "outputs": [
    {
     "data": {
      "text/html": [
       "<div>\n",
       "<style scoped>\n",
       "    .dataframe tbody tr th:only-of-type {\n",
       "        vertical-align: middle;\n",
       "    }\n",
       "\n",
       "    .dataframe tbody tr th {\n",
       "        vertical-align: top;\n",
       "    }\n",
       "\n",
       "    .dataframe thead th {\n",
       "        text-align: right;\n",
       "    }\n",
       "</style>\n",
       "<table border=\"1\" class=\"dataframe\">\n",
       "  <thead>\n",
       "    <tr style=\"text-align: right;\">\n",
       "      <th></th>\n",
       "      <th>draught</th>\n",
       "      <th>speed_through_water</th>\n",
       "      <th>beaufort</th>\n",
       "      <th>consumption_main_engine_mt_per_day</th>\n",
       "      <th>consumption_auxiliary_engine_mt_per_day</th>\n",
       "      <th>consumption_boiler_engine_mt_per_day</th>\n",
       "      <th>imo</th>\n",
       "    </tr>\n",
       "  </thead>\n",
       "  <tbody>\n",
       "    <tr>\n",
       "      <th>0</th>\n",
       "      <td>6.00</td>\n",
       "      <td>6.1</td>\n",
       "      <td>4.0</td>\n",
       "      <td>5.237754</td>\n",
       "      <td>3.6</td>\n",
       "      <td>1.0</td>\n",
       "      <td>345678</td>\n",
       "    </tr>\n",
       "    <tr>\n",
       "      <th>1</th>\n",
       "      <td>6.00</td>\n",
       "      <td>6.1</td>\n",
       "      <td>5.0</td>\n",
       "      <td>6.919550</td>\n",
       "      <td>3.6</td>\n",
       "      <td>1.0</td>\n",
       "      <td>345678</td>\n",
       "    </tr>\n",
       "    <tr>\n",
       "      <th>2</th>\n",
       "      <td>6.00</td>\n",
       "      <td>6.1</td>\n",
       "      <td>6.0</td>\n",
       "      <td>9.730965</td>\n",
       "      <td>3.6</td>\n",
       "      <td>1.0</td>\n",
       "      <td>345678</td>\n",
       "    </tr>\n",
       "    <tr>\n",
       "      <th>3</th>\n",
       "      <td>6.00</td>\n",
       "      <td>6.2</td>\n",
       "      <td>4.0</td>\n",
       "      <td>5.328638</td>\n",
       "      <td>3.6</td>\n",
       "      <td>1.0</td>\n",
       "      <td>345678</td>\n",
       "    </tr>\n",
       "    <tr>\n",
       "      <th>4</th>\n",
       "      <td>6.00</td>\n",
       "      <td>6.2</td>\n",
       "      <td>5.0</td>\n",
       "      <td>7.032755</td>\n",
       "      <td>3.6</td>\n",
       "      <td>1.0</td>\n",
       "      <td>345678</td>\n",
       "    </tr>\n",
       "    <tr>\n",
       "      <th>...</th>\n",
       "      <td>...</td>\n",
       "      <td>...</td>\n",
       "      <td>...</td>\n",
       "      <td>...</td>\n",
       "      <td>...</td>\n",
       "      <td>...</td>\n",
       "      <td>...</td>\n",
       "    </tr>\n",
       "    <tr>\n",
       "      <th>7895</th>\n",
       "      <td>11.51</td>\n",
       "      <td>14.9</td>\n",
       "      <td>3.0</td>\n",
       "      <td>34.130732</td>\n",
       "      <td>3.1</td>\n",
       "      <td>0.0</td>\n",
       "      <td>345678</td>\n",
       "    </tr>\n",
       "    <tr>\n",
       "      <th>7896</th>\n",
       "      <td>11.51</td>\n",
       "      <td>15.0</td>\n",
       "      <td>0.0</td>\n",
       "      <td>33.344826</td>\n",
       "      <td>3.1</td>\n",
       "      <td>0.0</td>\n",
       "      <td>345678</td>\n",
       "    </tr>\n",
       "    <tr>\n",
       "      <th>7897</th>\n",
       "      <td>11.51</td>\n",
       "      <td>15.0</td>\n",
       "      <td>1.0</td>\n",
       "      <td>33.511314</td>\n",
       "      <td>3.1</td>\n",
       "      <td>0.0</td>\n",
       "      <td>345678</td>\n",
       "    </tr>\n",
       "    <tr>\n",
       "      <th>7898</th>\n",
       "      <td>11.51</td>\n",
       "      <td>15.0</td>\n",
       "      <td>2.0</td>\n",
       "      <td>33.977045</td>\n",
       "      <td>3.1</td>\n",
       "      <td>0.0</td>\n",
       "      <td>345678</td>\n",
       "    </tr>\n",
       "    <tr>\n",
       "      <th>7899</th>\n",
       "      <td>11.51</td>\n",
       "      <td>15.1</td>\n",
       "      <td>0.0</td>\n",
       "      <td>34.335194</td>\n",
       "      <td>3.1</td>\n",
       "      <td>0.0</td>\n",
       "      <td>345678</td>\n",
       "    </tr>\n",
       "  </tbody>\n",
       "</table>\n",
       "<p>7900 rows × 7 columns</p>\n",
       "</div>"
      ],
      "text/plain": [
       "      draught  speed_through_water  beaufort  \\\n",
       "0        6.00                  6.1       4.0   \n",
       "1        6.00                  6.1       5.0   \n",
       "2        6.00                  6.1       6.0   \n",
       "3        6.00                  6.2       4.0   \n",
       "4        6.00                  6.2       5.0   \n",
       "...       ...                  ...       ...   \n",
       "7895    11.51                 14.9       3.0   \n",
       "7896    11.51                 15.0       0.0   \n",
       "7897    11.51                 15.0       1.0   \n",
       "7898    11.51                 15.0       2.0   \n",
       "7899    11.51                 15.1       0.0   \n",
       "\n",
       "      consumption_main_engine_mt_per_day  \\\n",
       "0                               5.237754   \n",
       "1                               6.919550   \n",
       "2                               9.730965   \n",
       "3                               5.328638   \n",
       "4                               7.032755   \n",
       "...                                  ...   \n",
       "7895                           34.130732   \n",
       "7896                           33.344826   \n",
       "7897                           33.511314   \n",
       "7898                           33.977045   \n",
       "7899                           34.335194   \n",
       "\n",
       "      consumption_auxiliary_engine_mt_per_day  \\\n",
       "0                                         3.6   \n",
       "1                                         3.6   \n",
       "2                                         3.6   \n",
       "3                                         3.6   \n",
       "4                                         3.6   \n",
       "...                                       ...   \n",
       "7895                                      3.1   \n",
       "7896                                      3.1   \n",
       "7897                                      3.1   \n",
       "7898                                      3.1   \n",
       "7899                                      3.1   \n",
       "\n",
       "      consumption_boiler_engine_mt_per_day     imo  \n",
       "0                                      1.0  345678  \n",
       "1                                      1.0  345678  \n",
       "2                                      1.0  345678  \n",
       "3                                      1.0  345678  \n",
       "4                                      1.0  345678  \n",
       "...                                    ...     ...  \n",
       "7895                                   0.0  345678  \n",
       "7896                                   0.0  345678  \n",
       "7897                                   0.0  345678  \n",
       "7898                                   0.0  345678  \n",
       "7899                                   0.0  345678  \n",
       "\n",
       "[7900 rows x 7 columns]"
      ]
     },
     "execution_count": 29,
     "metadata": {},
     "output_type": "execute_result"
    }
   ],
   "source": [
    "df = pd.read_csv('../samples/model3.csv')\n",
    "df"
   ]
  },
  {
   "cell_type": "code",
   "execution_count": 30,
   "metadata": {},
   "outputs": [
    {
     "data": {
      "text/html": [
       "<div>\n",
       "<style scoped>\n",
       "    .dataframe tbody tr th:only-of-type {\n",
       "        vertical-align: middle;\n",
       "    }\n",
       "\n",
       "    .dataframe tbody tr th {\n",
       "        vertical-align: top;\n",
       "    }\n",
       "\n",
       "    .dataframe thead th {\n",
       "        text-align: right;\n",
       "    }\n",
       "</style>\n",
       "<table border=\"1\" class=\"dataframe\">\n",
       "  <thead>\n",
       "    <tr style=\"text-align: right;\">\n",
       "      <th></th>\n",
       "      <th>draught</th>\n",
       "      <th>speed_through_water</th>\n",
       "      <th>beaufort</th>\n",
       "      <th>consumption_main_engine_mt_per_day</th>\n",
       "      <th>consumption_auxiliary_engine_mt_per_day</th>\n",
       "      <th>consumption_boiler_engine_mt_per_day</th>\n",
       "      <th>imo</th>\n",
       "    </tr>\n",
       "  </thead>\n",
       "  <tbody>\n",
       "    <tr>\n",
       "      <th>count</th>\n",
       "      <td>7900.000000</td>\n",
       "      <td>7900.000000</td>\n",
       "      <td>7900.000000</td>\n",
       "      <td>7900.000000</td>\n",
       "      <td>7900.000000</td>\n",
       "      <td>7900.000000</td>\n",
       "      <td>7900.0</td>\n",
       "    </tr>\n",
       "    <tr>\n",
       "      <th>mean</th>\n",
       "      <td>8.947466</td>\n",
       "      <td>10.602354</td>\n",
       "      <td>2.915443</td>\n",
       "      <td>14.648618</td>\n",
       "      <td>3.388913</td>\n",
       "      <td>0.577521</td>\n",
       "      <td>345678.0</td>\n",
       "    </tr>\n",
       "    <tr>\n",
       "      <th>std</th>\n",
       "      <td>1.814008</td>\n",
       "      <td>2.558733</td>\n",
       "      <td>1.961895</td>\n",
       "      <td>7.961549</td>\n",
       "      <td>0.246884</td>\n",
       "      <td>0.493788</td>\n",
       "      <td>0.0</td>\n",
       "    </tr>\n",
       "    <tr>\n",
       "      <th>min</th>\n",
       "      <td>6.000000</td>\n",
       "      <td>6.100000</td>\n",
       "      <td>0.000000</td>\n",
       "      <td>4.470590</td>\n",
       "      <td>3.100000</td>\n",
       "      <td>0.000000</td>\n",
       "      <td>345678.0</td>\n",
       "    </tr>\n",
       "    <tr>\n",
       "      <th>25%</th>\n",
       "      <td>7.500000</td>\n",
       "      <td>8.400000</td>\n",
       "      <td>1.000000</td>\n",
       "      <td>7.973699</td>\n",
       "      <td>3.100000</td>\n",
       "      <td>0.000000</td>\n",
       "      <td>345678.0</td>\n",
       "    </tr>\n",
       "    <tr>\n",
       "      <th>50%</th>\n",
       "      <td>9.000000</td>\n",
       "      <td>10.600000</td>\n",
       "      <td>3.000000</td>\n",
       "      <td>12.619983</td>\n",
       "      <td>3.600000</td>\n",
       "      <td>1.000000</td>\n",
       "      <td>345678.0</td>\n",
       "    </tr>\n",
       "    <tr>\n",
       "      <th>75%</th>\n",
       "      <td>10.500000</td>\n",
       "      <td>12.800000</td>\n",
       "      <td>5.000000</td>\n",
       "      <td>20.032503</td>\n",
       "      <td>3.600000</td>\n",
       "      <td>1.000000</td>\n",
       "      <td>345678.0</td>\n",
       "    </tr>\n",
       "    <tr>\n",
       "      <th>max</th>\n",
       "      <td>11.510000</td>\n",
       "      <td>15.700000</td>\n",
       "      <td>6.000000</td>\n",
       "      <td>34.431367</td>\n",
       "      <td>3.600000</td>\n",
       "      <td>1.000000</td>\n",
       "      <td>345678.0</td>\n",
       "    </tr>\n",
       "  </tbody>\n",
       "</table>\n",
       "</div>"
      ],
      "text/plain": [
       "           draught  speed_through_water     beaufort  \\\n",
       "count  7900.000000          7900.000000  7900.000000   \n",
       "mean      8.947466            10.602354     2.915443   \n",
       "std       1.814008             2.558733     1.961895   \n",
       "min       6.000000             6.100000     0.000000   \n",
       "25%       7.500000             8.400000     1.000000   \n",
       "50%       9.000000            10.600000     3.000000   \n",
       "75%      10.500000            12.800000     5.000000   \n",
       "max      11.510000            15.700000     6.000000   \n",
       "\n",
       "       consumption_main_engine_mt_per_day  \\\n",
       "count                         7900.000000   \n",
       "mean                            14.648618   \n",
       "std                              7.961549   \n",
       "min                              4.470590   \n",
       "25%                              7.973699   \n",
       "50%                             12.619983   \n",
       "75%                             20.032503   \n",
       "max                             34.431367   \n",
       "\n",
       "       consumption_auxiliary_engine_mt_per_day  \\\n",
       "count                              7900.000000   \n",
       "mean                                  3.388913   \n",
       "std                                   0.246884   \n",
       "min                                   3.100000   \n",
       "25%                                   3.100000   \n",
       "50%                                   3.600000   \n",
       "75%                                   3.600000   \n",
       "max                                   3.600000   \n",
       "\n",
       "       consumption_boiler_engine_mt_per_day       imo  \n",
       "count                           7900.000000    7900.0  \n",
       "mean                               0.577521  345678.0  \n",
       "std                                0.493788       0.0  \n",
       "min                                0.000000  345678.0  \n",
       "25%                                0.000000  345678.0  \n",
       "50%                                1.000000  345678.0  \n",
       "75%                                1.000000  345678.0  \n",
       "max                                1.000000  345678.0  "
      ]
     },
     "execution_count": 30,
     "metadata": {},
     "output_type": "execute_result"
    }
   ],
   "source": [
    "df.describe(include='all')"
   ]
  },
  {
   "cell_type": "code",
   "execution_count": 31,
   "metadata": {},
   "outputs": [],
   "source": [
    "# Create Consumtion Column\n",
    "df['consumption'] = df.apply (lambda row: row['consumption_main_engine_mt_per_day']+row['consumption_auxiliary_engine_mt_per_day']+row['consumption_boiler_engine_mt_per_day'], axis=1)"
   ]
  },
  {
   "cell_type": "code",
   "execution_count": 32,
   "metadata": {},
   "outputs": [
    {
     "name": "stdout",
     "output_type": "stream",
     "text": [
      "[0.46959015 2.6491574  1.26149609] -17.3517156368776\n"
     ]
    }
   ],
   "source": [
    "reg = linear_model.LinearRegression()\n",
    "reg.fit(df[['draught','speed_through_water','beaufort']],df.consumption)\n",
    "print(reg.coef_,reg.intercept_)"
   ]
  },
  {
   "cell_type": "code",
   "execution_count": 33,
   "metadata": {},
   "outputs": [],
   "source": [
    "X = df[['draught','speed_through_water','beaufort']]\n",
    "y = df['consumption']"
   ]
  },
  {
   "cell_type": "code",
   "execution_count": 34,
   "metadata": {},
   "outputs": [],
   "source": [
    "from sklearn.model_selection import train_test_split\n",
    "X_train, X_test, y_train, y_test = train_test_split(X,y,test_size=0.001) "
   ]
  },
  {
   "cell_type": "code",
   "execution_count": 35,
   "metadata": {},
   "outputs": [
    {
     "data": {
      "text/plain": [
       "4302    12.308751\n",
       "7480    12.817668\n",
       "6630    29.121640\n",
       "3913    17.565089\n",
       "195     10.824304\n",
       "2391    26.576919\n",
       "3379    14.902857\n",
       "7590    15.162306\n",
       "Name: consumption, dtype: float64"
      ]
     },
     "execution_count": 35,
     "metadata": {},
     "output_type": "execute_result"
    }
   ],
   "source": [
    "y_test"
   ]
  },
  {
   "cell_type": "code",
   "execution_count": 36,
   "metadata": {},
   "outputs": [
    {
     "data": {
      "text/plain": [
       "LinearRegression()"
      ]
     },
     "execution_count": 36,
     "metadata": {},
     "output_type": "execute_result"
    }
   ],
   "source": [
    "clf = linear_model.LinearRegression()\n",
    "clf.fit(X_train, y_train)"
   ]
  },
  {
   "cell_type": "code",
   "execution_count": 37,
   "metadata": {},
   "outputs": [
    {
     "data": {
      "text/plain": [
       "0.9395816925862327"
      ]
     },
     "execution_count": 37,
     "metadata": {},
     "output_type": "execute_result"
    }
   ],
   "source": [
    "# Model accuracy\n",
    "clf.score(X_test, y_test)"
   ]
  },
  {
   "cell_type": "code",
   "execution_count": 38,
   "metadata": {},
   "outputs": [
    {
     "name": "stdout",
     "output_type": "stream",
     "text": [
      "[0.46995447 2.64914373 1.26146968]\n"
     ]
    },
    {
     "data": {
      "text/plain": [
       "-17.354305063674307"
      ]
     },
     "execution_count": 38,
     "metadata": {},
     "output_type": "execute_result"
    }
   ],
   "source": [
    "print(clf.coef_)\n",
    "clf.intercept_"
   ]
  }
 ],
 "metadata": {
  "kernelspec": {
   "display_name": "Python 3.10.4 64-bit",
   "language": "python",
   "name": "python3"
  },
  "language_info": {
   "codemirror_mode": {
    "name": "ipython",
    "version": 3
   },
   "file_extension": ".py",
   "mimetype": "text/x-python",
   "name": "python",
   "nbconvert_exporter": "python",
   "pygments_lexer": "ipython3",
   "version": "3.10.4"
  },
  "orig_nbformat": 4,
  "vscode": {
   "interpreter": {
    "hash": "916dbcbb3f70747c44a77c7bcd40155683ae19c65e1c03b4aa3499c5328201f1"
   }
  }
 },
 "nbformat": 4,
 "nbformat_minor": 2
}
