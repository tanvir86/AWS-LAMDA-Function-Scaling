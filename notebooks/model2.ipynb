{
 "cells": [
  {
   "cell_type": "code",
   "execution_count": 21,
   "metadata": {},
   "outputs": [],
   "source": [
    "import pandas as pd\n",
    "import numpy as np\n",
    "from sklearn import linear_model"
   ]
  },
  {
   "cell_type": "code",
   "execution_count": 22,
   "metadata": {},
   "outputs": [
    {
     "data": {
      "text/html": [
       "<div>\n",
       "<style scoped>\n",
       "    .dataframe tbody tr th:only-of-type {\n",
       "        vertical-align: middle;\n",
       "    }\n",
       "\n",
       "    .dataframe tbody tr th {\n",
       "        vertical-align: top;\n",
       "    }\n",
       "\n",
       "    .dataframe thead th {\n",
       "        text-align: right;\n",
       "    }\n",
       "</style>\n",
       "<table border=\"1\" class=\"dataframe\">\n",
       "  <thead>\n",
       "    <tr style=\"text-align: right;\">\n",
       "      <th></th>\n",
       "      <th>draught</th>\n",
       "      <th>speed</th>\n",
       "      <th>beaufort</th>\n",
       "      <th>added_resistance</th>\n",
       "      <th>consumption</th>\n",
       "      <th>imo</th>\n",
       "    </tr>\n",
       "  </thead>\n",
       "  <tbody>\n",
       "    <tr>\n",
       "      <th>0</th>\n",
       "      <td>8.0</td>\n",
       "      <td>7.0</td>\n",
       "      <td>0.0</td>\n",
       "      <td>0</td>\n",
       "      <td>16.768106</td>\n",
       "      <td>123456</td>\n",
       "    </tr>\n",
       "    <tr>\n",
       "      <th>1</th>\n",
       "      <td>8.0</td>\n",
       "      <td>7.0</td>\n",
       "      <td>0.0</td>\n",
       "      <td>5</td>\n",
       "      <td>16.987781</td>\n",
       "      <td>123456</td>\n",
       "    </tr>\n",
       "    <tr>\n",
       "      <th>2</th>\n",
       "      <td>8.0</td>\n",
       "      <td>7.0</td>\n",
       "      <td>0.0</td>\n",
       "      <td>10</td>\n",
       "      <td>17.207157</td>\n",
       "      <td>123456</td>\n",
       "    </tr>\n",
       "    <tr>\n",
       "      <th>3</th>\n",
       "      <td>8.0</td>\n",
       "      <td>7.0</td>\n",
       "      <td>0.0</td>\n",
       "      <td>15</td>\n",
       "      <td>17.426236</td>\n",
       "      <td>123456</td>\n",
       "    </tr>\n",
       "    <tr>\n",
       "      <th>4</th>\n",
       "      <td>8.0</td>\n",
       "      <td>7.0</td>\n",
       "      <td>0.0</td>\n",
       "      <td>20</td>\n",
       "      <td>17.645017</td>\n",
       "      <td>123456</td>\n",
       "    </tr>\n",
       "    <tr>\n",
       "      <th>...</th>\n",
       "      <td>...</td>\n",
       "      <td>...</td>\n",
       "      <td>...</td>\n",
       "      <td>...</td>\n",
       "      <td>...</td>\n",
       "      <td>...</td>\n",
       "    </tr>\n",
       "    <tr>\n",
       "      <th>241299</th>\n",
       "      <td>17.8</td>\n",
       "      <td>14.7</td>\n",
       "      <td>2.0</td>\n",
       "      <td>0</td>\n",
       "      <td>57.072636</td>\n",
       "      <td>9682978</td>\n",
       "    </tr>\n",
       "    <tr>\n",
       "      <th>241300</th>\n",
       "      <td>17.8</td>\n",
       "      <td>14.8</td>\n",
       "      <td>0.0</td>\n",
       "      <td>0</td>\n",
       "      <td>57.263018</td>\n",
       "      <td>9682978</td>\n",
       "    </tr>\n",
       "    <tr>\n",
       "      <th>241301</th>\n",
       "      <td>17.8</td>\n",
       "      <td>14.8</td>\n",
       "      <td>1.0</td>\n",
       "      <td>0</td>\n",
       "      <td>57.493959</td>\n",
       "      <td>9682978</td>\n",
       "    </tr>\n",
       "    <tr>\n",
       "      <th>241302</th>\n",
       "      <td>17.8</td>\n",
       "      <td>14.8</td>\n",
       "      <td>2.0</td>\n",
       "      <td>0</td>\n",
       "      <td>58.148822</td>\n",
       "      <td>9682978</td>\n",
       "    </tr>\n",
       "    <tr>\n",
       "      <th>241303</th>\n",
       "      <td>17.8</td>\n",
       "      <td>14.9</td>\n",
       "      <td>0.0</td>\n",
       "      <td>0</td>\n",
       "      <td>58.329420</td>\n",
       "      <td>9682978</td>\n",
       "    </tr>\n",
       "  </tbody>\n",
       "</table>\n",
       "<p>241304 rows × 6 columns</p>\n",
       "</div>"
      ],
      "text/plain": [
       "        draught  speed  beaufort  added_resistance  consumption      imo\n",
       "0           8.0    7.0       0.0                 0    16.768106   123456\n",
       "1           8.0    7.0       0.0                 5    16.987781   123456\n",
       "2           8.0    7.0       0.0                10    17.207157   123456\n",
       "3           8.0    7.0       0.0                15    17.426236   123456\n",
       "4           8.0    7.0       0.0                20    17.645017   123456\n",
       "...         ...    ...       ...               ...          ...      ...\n",
       "241299     17.8   14.7       2.0                 0    57.072636  9682978\n",
       "241300     17.8   14.8       0.0                 0    57.263018  9682978\n",
       "241301     17.8   14.8       1.0                 0    57.493959  9682978\n",
       "241302     17.8   14.8       2.0                 0    58.148822  9682978\n",
       "241303     17.8   14.9       0.0                 0    58.329420  9682978\n",
       "\n",
       "[241304 rows x 6 columns]"
      ]
     },
     "execution_count": 22,
     "metadata": {},
     "output_type": "execute_result"
    }
   ],
   "source": [
    "df = pd.read_csv('../samples/model2.csv')\n",
    "df"
   ]
  },
  {
   "cell_type": "code",
   "execution_count": 23,
   "metadata": {},
   "outputs": [
    {
     "data": {
      "text/html": [
       "<div>\n",
       "<style scoped>\n",
       "    .dataframe tbody tr th:only-of-type {\n",
       "        vertical-align: middle;\n",
       "    }\n",
       "\n",
       "    .dataframe tbody tr th {\n",
       "        vertical-align: top;\n",
       "    }\n",
       "\n",
       "    .dataframe thead th {\n",
       "        text-align: right;\n",
       "    }\n",
       "</style>\n",
       "<table border=\"1\" class=\"dataframe\">\n",
       "  <thead>\n",
       "    <tr style=\"text-align: right;\">\n",
       "      <th></th>\n",
       "      <th>draught</th>\n",
       "      <th>speed</th>\n",
       "      <th>beaufort</th>\n",
       "      <th>added_resistance</th>\n",
       "      <th>consumption</th>\n",
       "      <th>imo</th>\n",
       "    </tr>\n",
       "  </thead>\n",
       "  <tbody>\n",
       "    <tr>\n",
       "      <th>count</th>\n",
       "      <td>241304.000000</td>\n",
       "      <td>241304.000000</td>\n",
       "      <td>241304.000000</td>\n",
       "      <td>241304.000000</td>\n",
       "      <td>241304.000000</td>\n",
       "      <td>2.413040e+05</td>\n",
       "    </tr>\n",
       "    <tr>\n",
       "      <th>mean</th>\n",
       "      <td>12.816177</td>\n",
       "      <td>9.929020</td>\n",
       "      <td>2.801980</td>\n",
       "      <td>62.125141</td>\n",
       "      <td>36.464039</td>\n",
       "      <td>9.286817e+06</td>\n",
       "    </tr>\n",
       "    <tr>\n",
       "      <th>std</th>\n",
       "      <td>3.010899</td>\n",
       "      <td>1.877656</td>\n",
       "      <td>1.945319</td>\n",
       "      <td>41.590422</td>\n",
       "      <td>10.222798</td>\n",
       "      <td>1.905303e+06</td>\n",
       "    </tr>\n",
       "    <tr>\n",
       "      <th>min</th>\n",
       "      <td>8.000000</td>\n",
       "      <td>7.000000</td>\n",
       "      <td>0.000000</td>\n",
       "      <td>0.000000</td>\n",
       "      <td>16.768106</td>\n",
       "      <td>1.234560e+05</td>\n",
       "    </tr>\n",
       "    <tr>\n",
       "      <th>25%</th>\n",
       "      <td>10.000000</td>\n",
       "      <td>8.400000</td>\n",
       "      <td>1.000000</td>\n",
       "      <td>25.000000</td>\n",
       "      <td>28.892391</td>\n",
       "      <td>9.682978e+06</td>\n",
       "    </tr>\n",
       "    <tr>\n",
       "      <th>50%</th>\n",
       "      <td>12.500000</td>\n",
       "      <td>9.800000</td>\n",
       "      <td>3.000000</td>\n",
       "      <td>60.000000</td>\n",
       "      <td>34.219891</td>\n",
       "      <td>9.682978e+06</td>\n",
       "    </tr>\n",
       "    <tr>\n",
       "      <th>75%</th>\n",
       "      <td>15.500000</td>\n",
       "      <td>11.300000</td>\n",
       "      <td>4.000000</td>\n",
       "      <td>95.000000</td>\n",
       "      <td>44.415064</td>\n",
       "      <td>9.682978e+06</td>\n",
       "    </tr>\n",
       "    <tr>\n",
       "      <th>max</th>\n",
       "      <td>17.800000</td>\n",
       "      <td>15.900000</td>\n",
       "      <td>6.000000</td>\n",
       "      <td>140.000000</td>\n",
       "      <td>58.511899</td>\n",
       "      <td>9.682978e+06</td>\n",
       "    </tr>\n",
       "  </tbody>\n",
       "</table>\n",
       "</div>"
      ],
      "text/plain": [
       "             draught          speed       beaufort  added_resistance  \\\n",
       "count  241304.000000  241304.000000  241304.000000     241304.000000   \n",
       "mean       12.816177       9.929020       2.801980         62.125141   \n",
       "std         3.010899       1.877656       1.945319         41.590422   \n",
       "min         8.000000       7.000000       0.000000          0.000000   \n",
       "25%        10.000000       8.400000       1.000000         25.000000   \n",
       "50%        12.500000       9.800000       3.000000         60.000000   \n",
       "75%        15.500000      11.300000       4.000000         95.000000   \n",
       "max        17.800000      15.900000       6.000000        140.000000   \n",
       "\n",
       "         consumption           imo  \n",
       "count  241304.000000  2.413040e+05  \n",
       "mean       36.464039  9.286817e+06  \n",
       "std        10.222798  1.905303e+06  \n",
       "min        16.768106  1.234560e+05  \n",
       "25%        28.892391  9.682978e+06  \n",
       "50%        34.219891  9.682978e+06  \n",
       "75%        44.415064  9.682978e+06  \n",
       "max        58.511899  9.682978e+06  "
      ]
     },
     "execution_count": 23,
     "metadata": {},
     "output_type": "execute_result"
    }
   ],
   "source": [
    "df.describe(include='all')"
   ]
  },
  {
   "cell_type": "code",
   "execution_count": 24,
   "metadata": {},
   "outputs": [
    {
     "name": "stdout",
     "output_type": "stream",
     "text": [
      "[0.40530188 4.5745322  1.57989448] -18.57783553455564\n"
     ]
    }
   ],
   "source": [
    "reg = linear_model.LinearRegression()\n",
    "reg.fit(df[['draught','speed','beaufort']],df.consumption)\n",
    "print(reg.coef_,reg.intercept_)"
   ]
  },
  {
   "cell_type": "code",
   "execution_count": 25,
   "metadata": {},
   "outputs": [],
   "source": [
    "X = df[['draught','speed','beaufort']]\n",
    "y = df['consumption']"
   ]
  },
  {
   "cell_type": "code",
   "execution_count": 26,
   "metadata": {},
   "outputs": [],
   "source": [
    "from sklearn.model_selection import train_test_split\n",
    "X_train, X_test, y_train, y_test = train_test_split(X,y,test_size=0.0001) "
   ]
  },
  {
   "cell_type": "code",
   "execution_count": 27,
   "metadata": {},
   "outputs": [
    {
     "data": {
      "text/plain": [
       "185528    56.116910\n",
       "151033    42.153096\n",
       "2258      27.223681\n",
       "67502     27.962548\n",
       "155965    25.650424\n",
       "129778    46.136838\n",
       "210225    23.881673\n",
       "187681    46.312986\n",
       "64193     20.766106\n",
       "38413     19.148629\n",
       "128820    30.949982\n",
       "127567    31.531848\n",
       "99569     25.232346\n",
       "68452     57.000997\n",
       "17935     30.430790\n",
       "93890     51.181366\n",
       "176408    45.378036\n",
       "77873     21.846561\n",
       "15779     24.955439\n",
       "162207    39.317385\n",
       "129872    38.613104\n",
       "158786    31.390823\n",
       "18196     31.548429\n",
       "166728    28.328893\n",
       "27911     25.144048\n",
       "Name: consumption, dtype: float64"
      ]
     },
     "execution_count": 27,
     "metadata": {},
     "output_type": "execute_result"
    }
   ],
   "source": [
    "y_test"
   ]
  },
  {
   "cell_type": "code",
   "execution_count": 28,
   "metadata": {},
   "outputs": [
    {
     "data": {
      "text/plain": [
       "LinearRegression()"
      ]
     },
     "execution_count": 28,
     "metadata": {},
     "output_type": "execute_result"
    }
   ],
   "source": [
    "clf = linear_model.LinearRegression()\n",
    "clf.fit(X_train, y_train)"
   ]
  },
  {
   "cell_type": "code",
   "execution_count": 29,
   "metadata": {},
   "outputs": [
    {
     "data": {
      "text/plain": [
       "0.7056376534448606"
      ]
     },
     "execution_count": 29,
     "metadata": {},
     "output_type": "execute_result"
    }
   ],
   "source": [
    "# Model accuracy\n",
    "clf.score(X_test, y_test)"
   ]
  },
  {
   "cell_type": "code",
   "execution_count": 30,
   "metadata": {},
   "outputs": [
    {
     "name": "stdout",
     "output_type": "stream",
     "text": [
      "[0.40531109 4.57449598 1.57985264]\n"
     ]
    },
    {
     "data": {
      "text/plain": [
       "-18.57742706657686"
      ]
     },
     "execution_count": 30,
     "metadata": {},
     "output_type": "execute_result"
    }
   ],
   "source": [
    "print(clf.coef_)\n",
    "clf.intercept_"
   ]
  }
 ],
 "metadata": {
  "kernelspec": {
   "display_name": "Python 3.10.4 64-bit",
   "language": "python",
   "name": "python3"
  },
  "language_info": {
   "codemirror_mode": {
    "name": "ipython",
    "version": 3
   },
   "file_extension": ".py",
   "mimetype": "text/x-python",
   "name": "python",
   "nbconvert_exporter": "python",
   "pygments_lexer": "ipython3",
   "version": "3.10.4"
  },
  "orig_nbformat": 4,
  "vscode": {
   "interpreter": {
    "hash": "916dbcbb3f70747c44a77c7bcd40155683ae19c65e1c03b4aa3499c5328201f1"
   }
  }
 },
 "nbformat": 4,
 "nbformat_minor": 2
}
